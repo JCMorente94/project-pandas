{
 "cells": [
  {
   "cell_type": "markdown",
   "metadata": {},
   "source": [
    "# Primera Parte"
   ]
  },
  {
   "cell_type": "code",
   "execution_count": 1,
   "metadata": {
    "ExecuteTime": {
     "end_time": "2020-02-06T15:55:15.023986Z",
     "start_time": "2020-02-06T15:55:13.605956Z"
    }
   },
   "outputs": [
    {
     "data": {
      "text/html": [
       "<div>\n",
       "<style scoped>\n",
       "    .dataframe tbody tr th:only-of-type {\n",
       "        vertical-align: middle;\n",
       "    }\n",
       "\n",
       "    .dataframe tbody tr th {\n",
       "        vertical-align: top;\n",
       "    }\n",
       "\n",
       "    .dataframe thead th {\n",
       "        text-align: right;\n",
       "    }\n",
       "</style>\n",
       "<table border=\"1\" class=\"dataframe\">\n",
       "  <thead>\n",
       "    <tr style=\"text-align: right;\">\n",
       "      <th></th>\n",
       "      <th>Date</th>\n",
       "      <th>Year</th>\n",
       "      <th>Type</th>\n",
       "      <th>Country</th>\n",
       "      <th>Area</th>\n",
       "      <th>Location</th>\n",
       "      <th>Activity</th>\n",
       "      <th>Name</th>\n",
       "      <th>Sex</th>\n",
       "      <th>Age</th>\n",
       "      <th>Injury</th>\n",
       "      <th>Fatal (Y/N)</th>\n",
       "      <th>Time</th>\n",
       "      <th>Species</th>\n",
       "    </tr>\n",
       "  </thead>\n",
       "  <tbody>\n",
       "    <tr>\n",
       "      <td>0</td>\n",
       "      <td>18-Sep-16</td>\n",
       "      <td>2016</td>\n",
       "      <td>Unprovoked</td>\n",
       "      <td>USA</td>\n",
       "      <td>Florida</td>\n",
       "      <td>New Smyrna Beach, Volusia County</td>\n",
       "      <td>Surfing</td>\n",
       "      <td>male</td>\n",
       "      <td>M</td>\n",
       "      <td>16</td>\n",
       "      <td>Minor injury to thigh</td>\n",
       "      <td>N</td>\n",
       "      <td>13h00</td>\n",
       "      <td>NaN</td>\n",
       "    </tr>\n",
       "    <tr>\n",
       "      <td>1</td>\n",
       "      <td>18-Sep-16</td>\n",
       "      <td>2016</td>\n",
       "      <td>Unprovoked</td>\n",
       "      <td>USA</td>\n",
       "      <td>Florida</td>\n",
       "      <td>New Smyrna Beach, Volusia County</td>\n",
       "      <td>Surfing</td>\n",
       "      <td>Chucky Luciano</td>\n",
       "      <td>M</td>\n",
       "      <td>36</td>\n",
       "      <td>Lacerations to hands</td>\n",
       "      <td>N</td>\n",
       "      <td>11h00</td>\n",
       "      <td>NaN</td>\n",
       "    </tr>\n",
       "    <tr>\n",
       "      <td>2</td>\n",
       "      <td>18-Sep-16</td>\n",
       "      <td>2016</td>\n",
       "      <td>Unprovoked</td>\n",
       "      <td>USA</td>\n",
       "      <td>Florida</td>\n",
       "      <td>New Smyrna Beach, Volusia County</td>\n",
       "      <td>Surfing</td>\n",
       "      <td>male</td>\n",
       "      <td>M</td>\n",
       "      <td>43</td>\n",
       "      <td>Lacerations to lower leg</td>\n",
       "      <td>N</td>\n",
       "      <td>10h43</td>\n",
       "      <td>NaN</td>\n",
       "    </tr>\n",
       "    <tr>\n",
       "      <td>3</td>\n",
       "      <td>17-Sep-16</td>\n",
       "      <td>2016</td>\n",
       "      <td>Unprovoked</td>\n",
       "      <td>AUSTRALIA</td>\n",
       "      <td>Victoria</td>\n",
       "      <td>Thirteenth Beach</td>\n",
       "      <td>Surfing</td>\n",
       "      <td>Rory Angiolella</td>\n",
       "      <td>M</td>\n",
       "      <td>NaN</td>\n",
       "      <td>Struck by fin on chest &amp; leg</td>\n",
       "      <td>N</td>\n",
       "      <td>NaN</td>\n",
       "      <td>NaN</td>\n",
       "    </tr>\n",
       "    <tr>\n",
       "      <td>4</td>\n",
       "      <td>16-Sep-16</td>\n",
       "      <td>2016</td>\n",
       "      <td>Unprovoked</td>\n",
       "      <td>AUSTRALIA</td>\n",
       "      <td>Victoria</td>\n",
       "      <td>Bells Beach</td>\n",
       "      <td>Surfing</td>\n",
       "      <td>male</td>\n",
       "      <td>M</td>\n",
       "      <td>NaN</td>\n",
       "      <td>No injury: Knocked off board by shark</td>\n",
       "      <td>N</td>\n",
       "      <td>NaN</td>\n",
       "      <td>2 m shark</td>\n",
       "    </tr>\n",
       "  </tbody>\n",
       "</table>\n",
       "</div>"
      ],
      "text/plain": [
       "        Date  Year        Type    Country      Area  \\\n",
       "0  18-Sep-16  2016  Unprovoked        USA   Florida   \n",
       "1  18-Sep-16  2016  Unprovoked        USA   Florida   \n",
       "2  18-Sep-16  2016  Unprovoked        USA   Florida   \n",
       "3  17-Sep-16  2016  Unprovoked  AUSTRALIA  Victoria   \n",
       "4  16-Sep-16  2016  Unprovoked  AUSTRALIA  Victoria   \n",
       "\n",
       "                           Location Activity             Name Sex  Age  \\\n",
       "0  New Smyrna Beach, Volusia County  Surfing             male   M   16   \n",
       "1  New Smyrna Beach, Volusia County  Surfing   Chucky Luciano   M   36   \n",
       "2  New Smyrna Beach, Volusia County  Surfing             male   M   43   \n",
       "3                  Thirteenth Beach  Surfing  Rory Angiolella   M  NaN   \n",
       "4                       Bells Beach  Surfing             male   M  NaN   \n",
       "\n",
       "                                  Injury Fatal (Y/N)   Time    Species  \n",
       "0                  Minor injury to thigh           N  13h00        NaN  \n",
       "1                   Lacerations to hands           N  11h00        NaN  \n",
       "2               Lacerations to lower leg           N  10h43        NaN  \n",
       "3           Struck by fin on chest & leg           N    NaN        NaN  \n",
       "4  No injury: Knocked off board by shark           N    NaN  2 m shark  "
      ]
     },
     "execution_count": 1,
     "metadata": {},
     "output_type": "execute_result"
    }
   ],
   "source": [
    "# Importamos las librerias\n",
    "\n",
    "import numpy as np \n",
    "import pandas as pd\n",
    "import re\n",
    "\n",
    "# Me sale un warning de que estoy borrando elementos a veces y tengo que ejecutarlo dos veces para que funcione.\n",
    "pd.set_option('mode.chained_assignment', None)\n",
    "# Abrimos el documento csv\n",
    "\n",
    "complete_data = pd.read_csv('GSAF5.csv', engine='python')\n",
    "data = complete_data.copy()\n",
    "\n",
    "# Elimino las columnas innecesarias\n",
    "\n",
    "data.drop(['Unnamed: 22','Unnamed: 23','pdf','href formula','Case Number','href','Case Number.1','Case Number.2','original order','Investigator or Source'], inplace = True, axis = 1)\n",
    "\n",
    "\n",
    "# Renombrar las columnas que continen espacios\n",
    "\n",
    "data.rename(columns = {'Species ': 'Species', 'Sex ': 'Sex'}, inplace = True)\n",
    "\n",
    "# Elimino los duplicados que hay.\n",
    "\n",
    "data = data.drop_duplicates()\n",
    "\n",
    "data.head()\n"
   ]
  },
  {
   "cell_type": "code",
   "execution_count": 2,
   "metadata": {
    "ExecuteTime": {
     "end_time": "2020-02-06T15:55:15.065696Z",
     "start_time": "2020-02-06T15:55:15.027248Z"
    }
   },
   "outputs": [],
   "source": [
    "# Cambio los NaN por Unkown\n",
    "\n",
    "for i in data.columns:\n",
    "    data[i] = data[i].fillna('Unkown')"
   ]
  },
  {
   "cell_type": "code",
   "execution_count": 3,
   "metadata": {
    "ExecuteTime": {
     "end_time": "2020-02-06T15:55:15.730427Z",
     "start_time": "2020-02-06T15:55:15.068363Z"
    }
   },
   "outputs": [
    {
     "name": "stdout",
     "output_type": "stream",
     "text": [
      "Estos datos son erroneos y sus filas: [(2010, 2011, 717), (1996, 1966, 3371), (2176, 1959, 3852), (1995, 1954, 4102), (1923, 1922, 4983), (1929, 1921, 5012), (1893, 1892, 5441), (1878, 1877, 5612), (1870, 1875, 5626), (1888, 1868, 5669), (1850, 1852, 5750), (1820, 1825, 5816), (1600, 1642, 5855)]\n"
     ]
    }
   ],
   "source": [
    "# Compruebo que Date y Year contiene los mismos datos\n",
    "# Si year es 0, lo reemplazo por la fecha de date\n",
    "# Creo una lista rows para añadir los indices de las filas que quiero eliminar despues\n",
    "\n",
    "lst = []\n",
    "rows = []\n",
    "\n",
    "    \n",
    "for i in data.index:\n",
    "    x = re.findall('\\d{4}', data['Date'][i])\n",
    "    if x == []:\n",
    "        continue\n",
    "    if int(data['Year'][i]) == 0:\n",
    "        data['Year'][i] = int(x[0])\n",
    "    if int(x[0]) == data['Year'][i]:\n",
    "        continue \n",
    "    lst.append((int(x[0]),data['Year'][i],i))\n",
    "    rows.append(i)\n",
    "    \n",
    "print(f\"Estos datos son erroneos y sus filas: {lst}\")\n",
    "\n",
    "# Hay algunos datos erroneos que no tienen los mismos valores\n",
    "\n",
    "# Aqui decido borrar los datos erroneos\n",
    "\n",
    "data.drop(rows,inplace = True)"
   ]
  },
  {
   "cell_type": "code",
   "execution_count": 4,
   "metadata": {
    "ExecuteTime": {
     "end_time": "2020-02-06T15:55:16.126193Z",
     "start_time": "2020-02-06T15:55:15.741964Z"
    }
   },
   "outputs": [
    {
     "name": "stdout",
     "output_type": "stream",
     "text": [
      "Los valores erroneos y sus filas son [('lli', 1400), ('N', 4708), ('.', 5201)]\n"
     ]
    },
    {
     "data": {
      "text/plain": [
       "M         4825\n",
       "F          583\n",
       "Unkown     566\n",
       "Name: Sex, dtype: int64"
      ]
     },
     "execution_count": 4,
     "metadata": {},
     "output_type": "execute_result"
    }
   ],
   "source": [
    "# Aqui corrijo algunos datos erroneos y borro otros de la columna 'Sex'\n",
    "\n",
    "data['Sex'] = data['Sex'].astype(str) \n",
    "lst = []\n",
    "rows = []\n",
    "for i in data.index:\n",
    "    x = data['Sex'][i]\n",
    "    if x == 'M ':\n",
    "        data['Sex'][i] = 'M'\n",
    "    elif str(x) == 'nan':\n",
    "        data['Sex'][i] = 'Unknown'\n",
    "    elif str(x) not in ('F','M','Unkown'):\n",
    "        rows.append(i)\n",
    "        lst.append((x,i))\n",
    "        \n",
    "print(f\"Los valores erroneos y sus filas son {lst}\")  \n",
    "\n",
    "# Aqui elimino los datos erroneos\n",
    "data.drop(rows,inplace = True)\n",
    "data['Sex'].value_counts()"
   ]
  },
  {
   "cell_type": "code",
   "execution_count": 5,
   "metadata": {
    "ExecuteTime": {
     "end_time": "2020-02-06T15:55:16.535749Z",
     "start_time": "2020-02-06T15:55:16.131895Z"
    }
   },
   "outputs": [],
   "source": [
    "# En la columna 'Type' cambio boating por boat \n",
    "for i in data.index:\n",
    "    if data['Type'][i] == 'Boating':\n",
    "        data['Type'][i] = 'Boat'\n",
    "        \n",
    "data['Type'].value_counts()\n",
    "\n",
    "data.to_csv('Total_Data_Cleaned.csv')"
   ]
  },
  {
   "cell_type": "markdown",
   "metadata": {},
   "source": [
    "# Segunda Parte\n"
   ]
  },
  {
   "cell_type": "code",
   "execution_count": 6,
   "metadata": {
    "ExecuteTime": {
     "end_time": "2020-02-06T15:55:16.816617Z",
     "start_time": "2020-02-06T15:55:16.543428Z"
    }
   },
   "outputs": [
    {
     "data": {
      "text/html": [
       "<div>\n",
       "<style scoped>\n",
       "    .dataframe tbody tr th:only-of-type {\n",
       "        vertical-align: middle;\n",
       "    }\n",
       "\n",
       "    .dataframe tbody tr th {\n",
       "        vertical-align: top;\n",
       "    }\n",
       "\n",
       "    .dataframe thead th {\n",
       "        text-align: right;\n",
       "    }\n",
       "</style>\n",
       "<table border=\"1\" class=\"dataframe\">\n",
       "  <thead>\n",
       "    <tr style=\"text-align: right;\">\n",
       "      <th></th>\n",
       "      <th>Date</th>\n",
       "      <th>Year</th>\n",
       "      <th>Type</th>\n",
       "      <th>Country</th>\n",
       "      <th>Area</th>\n",
       "      <th>Location</th>\n",
       "      <th>Activity</th>\n",
       "      <th>Name</th>\n",
       "      <th>Sex</th>\n",
       "      <th>Age</th>\n",
       "      <th>Injury</th>\n",
       "      <th>Fatal (Y/N)</th>\n",
       "      <th>Time</th>\n",
       "      <th>Species</th>\n",
       "    </tr>\n",
       "  </thead>\n",
       "  <tbody>\n",
       "    <tr>\n",
       "      <td>0</td>\n",
       "      <td>18-Sep-16</td>\n",
       "      <td>2016</td>\n",
       "      <td>Unprovoked</td>\n",
       "      <td>USA</td>\n",
       "      <td>Florida</td>\n",
       "      <td>New Smyrna Beach, Volusia County</td>\n",
       "      <td>Surfing</td>\n",
       "      <td>male</td>\n",
       "      <td>M</td>\n",
       "      <td>16</td>\n",
       "      <td>Minor injury to thigh</td>\n",
       "      <td>N</td>\n",
       "      <td>13h00</td>\n",
       "      <td>Unkown</td>\n",
       "    </tr>\n",
       "    <tr>\n",
       "      <td>1</td>\n",
       "      <td>18-Sep-16</td>\n",
       "      <td>2016</td>\n",
       "      <td>Unprovoked</td>\n",
       "      <td>USA</td>\n",
       "      <td>Florida</td>\n",
       "      <td>New Smyrna Beach, Volusia County</td>\n",
       "      <td>Surfing</td>\n",
       "      <td>Chucky Luciano</td>\n",
       "      <td>M</td>\n",
       "      <td>36</td>\n",
       "      <td>Lacerations to hands</td>\n",
       "      <td>N</td>\n",
       "      <td>11h00</td>\n",
       "      <td>Unkown</td>\n",
       "    </tr>\n",
       "    <tr>\n",
       "      <td>2</td>\n",
       "      <td>18-Sep-16</td>\n",
       "      <td>2016</td>\n",
       "      <td>Unprovoked</td>\n",
       "      <td>USA</td>\n",
       "      <td>Florida</td>\n",
       "      <td>New Smyrna Beach, Volusia County</td>\n",
       "      <td>Surfing</td>\n",
       "      <td>male</td>\n",
       "      <td>M</td>\n",
       "      <td>43</td>\n",
       "      <td>Lacerations to lower leg</td>\n",
       "      <td>N</td>\n",
       "      <td>10h43</td>\n",
       "      <td>Unkown</td>\n",
       "    </tr>\n",
       "    <tr>\n",
       "      <td>3</td>\n",
       "      <td>17-Sep-16</td>\n",
       "      <td>2016</td>\n",
       "      <td>Unprovoked</td>\n",
       "      <td>AUSTRALIA</td>\n",
       "      <td>Victoria</td>\n",
       "      <td>Thirteenth Beach</td>\n",
       "      <td>Surfing</td>\n",
       "      <td>Rory Angiolella</td>\n",
       "      <td>M</td>\n",
       "      <td>Unkown</td>\n",
       "      <td>Struck by fin on chest &amp; leg</td>\n",
       "      <td>N</td>\n",
       "      <td>Unkown</td>\n",
       "      <td>Unkown</td>\n",
       "    </tr>\n",
       "    <tr>\n",
       "      <td>4</td>\n",
       "      <td>16-Sep-16</td>\n",
       "      <td>2016</td>\n",
       "      <td>Unprovoked</td>\n",
       "      <td>AUSTRALIA</td>\n",
       "      <td>Victoria</td>\n",
       "      <td>Bells Beach</td>\n",
       "      <td>Surfing</td>\n",
       "      <td>male</td>\n",
       "      <td>M</td>\n",
       "      <td>Unkown</td>\n",
       "      <td>No injury: Knocked off board by shark</td>\n",
       "      <td>N</td>\n",
       "      <td>Unkown</td>\n",
       "      <td>2 m shark</td>\n",
       "    </tr>\n",
       "  </tbody>\n",
       "</table>\n",
       "</div>"
      ],
      "text/plain": [
       "        Date  Year        Type    Country      Area  \\\n",
       "0  18-Sep-16  2016  Unprovoked        USA   Florida   \n",
       "1  18-Sep-16  2016  Unprovoked        USA   Florida   \n",
       "2  18-Sep-16  2016  Unprovoked        USA   Florida   \n",
       "3  17-Sep-16  2016  Unprovoked  AUSTRALIA  Victoria   \n",
       "4  16-Sep-16  2016  Unprovoked  AUSTRALIA  Victoria   \n",
       "\n",
       "                           Location Activity             Name Sex     Age  \\\n",
       "0  New Smyrna Beach, Volusia County  Surfing             male   M      16   \n",
       "1  New Smyrna Beach, Volusia County  Surfing   Chucky Luciano   M      36   \n",
       "2  New Smyrna Beach, Volusia County  Surfing             male   M      43   \n",
       "3                  Thirteenth Beach  Surfing  Rory Angiolella   M  Unkown   \n",
       "4                       Bells Beach  Surfing             male   M  Unkown   \n",
       "\n",
       "                                  Injury Fatal (Y/N)    Time    Species  \n",
       "0                  Minor injury to thigh           N   13h00     Unkown  \n",
       "1                   Lacerations to hands           N   11h00     Unkown  \n",
       "2               Lacerations to lower leg           N   10h43     Unkown  \n",
       "3           Struck by fin on chest & leg           N  Unkown     Unkown  \n",
       "4  No injury: Knocked off board by shark           N  Unkown  2 m shark  "
      ]
     },
     "execution_count": 6,
     "metadata": {},
     "output_type": "execute_result"
    }
   ],
   "source": [
    "# Me quedo con los datos entre los años 2000 - 2016 y elimino los demas.\n",
    "\n",
    "data_1 = data.copy()\n",
    "\n",
    "rows = [i for i in data_1.index if data_1[\"Year\"][i] <= 2000]\n",
    "        \n",
    "data_1.drop(rows,inplace = True)\n",
    "\n",
    "data_1.head()\n"
   ]
  },
  {
   "cell_type": "code",
   "execution_count": 7,
   "metadata": {
    "ExecuteTime": {
     "end_time": "2020-02-06T15:55:16.947511Z",
     "start_time": "2020-02-06T15:55:16.820606Z"
    }
   },
   "outputs": [],
   "source": [
    "# Aqui elimino algunos datos erroneos en 'date' y 'year' no coinciden\n",
    "\n",
    "rows = [i for i in data_1.index if not str(data_1['Year'][i]%100) in data_1['Date'][i][-2:]]\n",
    "\n",
    "data.drop(rows,inplace = True)\n"
   ]
  },
  {
   "cell_type": "code",
   "execution_count": 8,
   "metadata": {
    "ExecuteTime": {
     "end_time": "2020-02-06T15:55:17.743625Z",
     "start_time": "2020-02-06T15:55:16.953657Z"
    }
   },
   "outputs": [],
   "source": [
    "# Aqui modifico los elementos de 'Date' para obtenerlos en el formato dd-www-dd\n",
    "# Los que no lo cumplen los elimino\n",
    "\n",
    "rows = []\n",
    "\n",
    "for i in data_1.index:\n",
    "    x = re.findall(\"\\d{2}-\\w{3}-\\d{2}\",data_1['Date'][i])\n",
    "    if x == []:\n",
    "        rows.append(i)\n",
    "    else:\n",
    "        if data_1['Date'][i].startswith('Reported'):\n",
    "            data_1['Date'][i] = x[0]\n",
    "        if len(*x) == 11:\n",
    "            data_1['Date'][i] = x[0][0:7] + x[0][-2:]\n",
    "        if len(*x) == 9:\n",
    "            data_1['Date'][i] = x[0]\n",
    "\n",
    "data_1.drop(rows,inplace = True)\n"
   ]
  },
  {
   "cell_type": "code",
   "execution_count": 9,
   "metadata": {
    "ExecuteTime": {
     "end_time": "2020-02-06T15:55:17.767232Z",
     "start_time": "2020-02-06T15:55:17.748786Z"
    }
   },
   "outputs": [],
   "source": [
    "# Añado una nueva columna con los meses a partir de la columna 'Date'\n",
    "\n",
    "months = {'Jan':1, 'Feb':2, 'Mar':3, 'Apr':4, 'May':5, 'Jun':6, 'Jul':7, 'Aug':8, 'Sep':9, 'Oct':10, 'Nov':11, 'Dec':12}\n",
    "\n",
    "\n",
    "lst_months = []\n",
    "for i in data_1['Date']:   \n",
    "    lst_months.append(months[i[3:6]])\n",
    "data_1['Month'] = lst_months\n"
   ]
  },
  {
   "cell_type": "code",
   "execution_count": 10,
   "metadata": {
    "ExecuteTime": {
     "end_time": "2020-02-06T15:55:18.022460Z",
     "start_time": "2020-02-06T15:55:17.772420Z"
    }
   },
   "outputs": [],
   "source": [
    "# Añado una nueva columna con los dias a partir de la columna 'Date'\n",
    "\n",
    "list_days = []\n",
    "for i in data_1.index:\n",
    "    list_days.append(int(data_1['Date'][i][:2]))\n",
    "data_1['Day'] = list_days\n"
   ]
  },
  {
   "cell_type": "code",
   "execution_count": 11,
   "metadata": {
    "ExecuteTime": {
     "end_time": "2020-02-06T15:55:18.179887Z",
     "start_time": "2020-02-06T15:55:18.028502Z"
    }
   },
   "outputs": [
    {
     "data": {
      "text/html": [
       "<div>\n",
       "<style scoped>\n",
       "    .dataframe tbody tr th:only-of-type {\n",
       "        vertical-align: middle;\n",
       "    }\n",
       "\n",
       "    .dataframe tbody tr th {\n",
       "        vertical-align: top;\n",
       "    }\n",
       "\n",
       "    .dataframe thead th {\n",
       "        text-align: right;\n",
       "    }\n",
       "</style>\n",
       "<table border=\"1\" class=\"dataframe\">\n",
       "  <thead>\n",
       "    <tr style=\"text-align: right;\">\n",
       "      <th></th>\n",
       "      <th>Date</th>\n",
       "      <th>Day</th>\n",
       "      <th>Month</th>\n",
       "      <th>Year</th>\n",
       "      <th>Country</th>\n",
       "      <th>Area</th>\n",
       "      <th>Location</th>\n",
       "      <th>Type</th>\n",
       "      <th>Activity</th>\n",
       "      <th>Name</th>\n",
       "      <th>Sex</th>\n",
       "      <th>Age</th>\n",
       "      <th>Injury</th>\n",
       "      <th>Fatal (Y/N)</th>\n",
       "      <th>Time</th>\n",
       "      <th>Species</th>\n",
       "    </tr>\n",
       "  </thead>\n",
       "  <tbody>\n",
       "    <tr>\n",
       "      <td>0</td>\n",
       "      <td>18-Sep-16</td>\n",
       "      <td>18</td>\n",
       "      <td>9</td>\n",
       "      <td>2016</td>\n",
       "      <td>USA</td>\n",
       "      <td>Florida</td>\n",
       "      <td>New Smyrna Beach, Volusia County</td>\n",
       "      <td>Unprovoked</td>\n",
       "      <td>Surfing</td>\n",
       "      <td>male</td>\n",
       "      <td>M</td>\n",
       "      <td>16</td>\n",
       "      <td>Minor injury to thigh</td>\n",
       "      <td>N</td>\n",
       "      <td>13h00</td>\n",
       "      <td>Unkown</td>\n",
       "    </tr>\n",
       "    <tr>\n",
       "      <td>1</td>\n",
       "      <td>18-Sep-16</td>\n",
       "      <td>18</td>\n",
       "      <td>9</td>\n",
       "      <td>2016</td>\n",
       "      <td>USA</td>\n",
       "      <td>Florida</td>\n",
       "      <td>New Smyrna Beach, Volusia County</td>\n",
       "      <td>Unprovoked</td>\n",
       "      <td>Surfing</td>\n",
       "      <td>Chucky Luciano</td>\n",
       "      <td>M</td>\n",
       "      <td>36</td>\n",
       "      <td>Lacerations to hands</td>\n",
       "      <td>N</td>\n",
       "      <td>11h00</td>\n",
       "      <td>Unkown</td>\n",
       "    </tr>\n",
       "    <tr>\n",
       "      <td>2</td>\n",
       "      <td>18-Sep-16</td>\n",
       "      <td>18</td>\n",
       "      <td>9</td>\n",
       "      <td>2016</td>\n",
       "      <td>USA</td>\n",
       "      <td>Florida</td>\n",
       "      <td>New Smyrna Beach, Volusia County</td>\n",
       "      <td>Unprovoked</td>\n",
       "      <td>Surfing</td>\n",
       "      <td>male</td>\n",
       "      <td>M</td>\n",
       "      <td>43</td>\n",
       "      <td>Lacerations to lower leg</td>\n",
       "      <td>N</td>\n",
       "      <td>10h43</td>\n",
       "      <td>Unkown</td>\n",
       "    </tr>\n",
       "    <tr>\n",
       "      <td>3</td>\n",
       "      <td>17-Sep-16</td>\n",
       "      <td>17</td>\n",
       "      <td>9</td>\n",
       "      <td>2016</td>\n",
       "      <td>AUSTRALIA</td>\n",
       "      <td>Victoria</td>\n",
       "      <td>Thirteenth Beach</td>\n",
       "      <td>Unprovoked</td>\n",
       "      <td>Surfing</td>\n",
       "      <td>Rory Angiolella</td>\n",
       "      <td>M</td>\n",
       "      <td>Unkown</td>\n",
       "      <td>Struck by fin on chest &amp; leg</td>\n",
       "      <td>N</td>\n",
       "      <td>Unkown</td>\n",
       "      <td>Unkown</td>\n",
       "    </tr>\n",
       "    <tr>\n",
       "      <td>4</td>\n",
       "      <td>16-Sep-16</td>\n",
       "      <td>16</td>\n",
       "      <td>9</td>\n",
       "      <td>2016</td>\n",
       "      <td>AUSTRALIA</td>\n",
       "      <td>Victoria</td>\n",
       "      <td>Bells Beach</td>\n",
       "      <td>Unprovoked</td>\n",
       "      <td>Surfing</td>\n",
       "      <td>male</td>\n",
       "      <td>M</td>\n",
       "      <td>Unkown</td>\n",
       "      <td>No injury: Knocked off board by shark</td>\n",
       "      <td>N</td>\n",
       "      <td>Unkown</td>\n",
       "      <td>2 m shark</td>\n",
       "    </tr>\n",
       "  </tbody>\n",
       "</table>\n",
       "</div>"
      ],
      "text/plain": [
       "        Date  Day  Month  Year    Country      Area  \\\n",
       "0  18-Sep-16   18      9  2016        USA   Florida   \n",
       "1  18-Sep-16   18      9  2016        USA   Florida   \n",
       "2  18-Sep-16   18      9  2016        USA   Florida   \n",
       "3  17-Sep-16   17      9  2016  AUSTRALIA  Victoria   \n",
       "4  16-Sep-16   16      9  2016  AUSTRALIA  Victoria   \n",
       "\n",
       "                           Location        Type Activity             Name Sex  \\\n",
       "0  New Smyrna Beach, Volusia County  Unprovoked  Surfing             male   M   \n",
       "1  New Smyrna Beach, Volusia County  Unprovoked  Surfing   Chucky Luciano   M   \n",
       "2  New Smyrna Beach, Volusia County  Unprovoked  Surfing             male   M   \n",
       "3                  Thirteenth Beach  Unprovoked  Surfing  Rory Angiolella   M   \n",
       "4                       Bells Beach  Unprovoked  Surfing             male   M   \n",
       "\n",
       "      Age                                 Injury Fatal (Y/N)    Time  \\\n",
       "0      16                  Minor injury to thigh           N   13h00   \n",
       "1      36                   Lacerations to hands           N   11h00   \n",
       "2      43               Lacerations to lower leg           N   10h43   \n",
       "3  Unkown           Struck by fin on chest & leg           N  Unkown   \n",
       "4  Unkown  No injury: Knocked off board by shark           N  Unkown   \n",
       "\n",
       "     Species  \n",
       "0     Unkown  \n",
       "1     Unkown  \n",
       "2     Unkown  \n",
       "3     Unkown  \n",
       "4  2 m shark  "
      ]
     },
     "execution_count": 11,
     "metadata": {},
     "output_type": "execute_result"
    }
   ],
   "source": [
    "# Aqui ordeno las columnas\n",
    "\n",
    "data_1_order = ['Date', 'Day', 'Month', 'Year', 'Country', 'Area', 'Location', 'Type', 'Activity',\n",
    "       'Name', 'Sex', 'Age', 'Injury', 'Fatal (Y/N)', 'Time', 'Species']\n",
    "\n",
    "data_1 = data_1[data_1_order]\n",
    "\n",
    "data_1.head()"
   ]
  },
  {
   "cell_type": "code",
   "execution_count": 12,
   "metadata": {
    "ExecuteTime": {
     "end_time": "2020-02-06T15:55:18.375903Z",
     "start_time": "2020-02-06T15:55:18.184154Z"
    }
   },
   "outputs": [
    {
     "data": {
      "text/plain": [
       "USA                 859\n",
       "AUSTRALIA           320\n",
       "SOUTH AFRICA        117\n",
       "BRAZIL               47\n",
       "BAHAMAS              42\n",
       "NEW ZEALAND          32\n",
       "REUNION              25\n",
       "NEW CALEDONIA        20\n",
       "EGYPT                19\n",
       "MEXICO               17\n",
       "FRENCH POLYNESIA     12\n",
       "Name: Country, dtype: int64"
      ]
     },
     "execution_count": 12,
     "metadata": {},
     "output_type": "execute_result"
    }
   ],
   "source": [
    "# Me quedo con los paises con mas de 12 ataques de tiburones\n",
    "\n",
    "lst_delete = []\n",
    "x = data_1['Country'].value_counts()\n",
    "for i in data_1.index:\n",
    "    if  x[data_1['Country'][i]] < 12:\n",
    "        lst_delete.append(i)\n",
    "lst_delete\n",
    "\n",
    "data_1.drop(lst_delete,inplace = True)\n",
    "\n",
    "data_1['Country'].value_counts()"
   ]
  },
  {
   "cell_type": "code",
   "execution_count": 13,
   "metadata": {
    "ExecuteTime": {
     "end_time": "2020-02-06T15:55:18.697679Z",
     "start_time": "2020-02-06T15:55:18.379803Z"
    }
   },
   "outputs": [],
   "source": [
    "# Creo listas con las coordenadas de los paises\n",
    "# Situo los valores de forma random alrededor del pais porque no puedo hacerlo con las localizaciones exactas\n",
    "# Añado nuevas columnas con las coordenadas\n",
    "\n",
    "dit = {}\n",
    "dit['USA'] = (190,385) \n",
    "dit['AUSTRALIA'] = (820,180)\n",
    "dit['SOUTH AFRICA'] = (465,160)\n",
    "dit['BRAZIL'] = (288,240)\n",
    "dit['BAHAMAS'] = (180,350)\n",
    "dit['NEW ZEALAND'] = (850,130)\n",
    "dit['REUNION'] = (550,195)\n",
    "dit['EGYPT'] = (480,360)\n",
    "dit['NEW CALEDONIA'] = (860,200)\n",
    "dit['MEXICO'] = (115,330)\n",
    "dit['FRENCH POLYNESIA'] = (940,240)\n",
    "\n",
    "\n",
    "lst1 = []\n",
    "lst2 = []\n",
    "lst3 = []\n",
    "for i in data_1.index:\n",
    "    x = dit[data_1['Country'][i]][0] + np.random.randint(low = 5, high = 15)\n",
    "    y = dit[data_1['Country'][i]][1]+ np.random.randint(low = -20, high = 20)\n",
    "    coord_year = (x, y, data_1['Year'][i])\n",
    "    coord_month = (x, y, data_1['Month'][i])\n",
    "    coord = (x,y,0)\n",
    "    lst1.append(coord_year)\n",
    "    lst2.append(coord_month) \n",
    "    lst3.append(coord)\n",
    "data_1['Coordinates_year'] = lst1\n",
    "data_1['Coordinates_month'] = lst2\n",
    "data_1['Coordinates'] = lst3\n",
    "    \n",
    "    "
   ]
  },
  {
   "cell_type": "code",
   "execution_count": 15,
   "metadata": {
    "ExecuteTime": {
     "end_time": "2020-02-06T15:58:45.872971Z",
     "start_time": "2020-02-06T15:58:45.798169Z"
    }
   },
   "outputs": [],
   "source": [
    "# Exporto estas columnas a un csv para la colocacion de los datos en el mapa.\n",
    "# Geogebra no me permite exportar una gran cantidad de datos.\n",
    " \n",
    "data_1.to_csv('Partial_Data_Cleaned.csv')\n",
    "data_1[['Coordinates_year','Coordinates_month','Coordinates']].to_csv('Visualization.csv')"
   ]
  },
  {
   "cell_type": "markdown",
   "metadata": {},
   "source": [
    "### Los Ataques de tiburones de marzo de 2016\n"
   ]
  },
  {
   "cell_type": "markdown",
   "metadata": {
    "ExecuteTime": {
     "end_time": "2020-02-03T21:40:30.492411Z",
     "start_time": "2020-02-03T21:40:30.485430Z"
    }
   },
   "source": [
    "<img src=\"images/1.png\">"
   ]
  },
  {
   "cell_type": "markdown",
   "metadata": {},
   "source": [
    "### Los ataques de tiburones de mayo de 2015\n"
   ]
  },
  {
   "cell_type": "markdown",
   "metadata": {
    "ExecuteTime": {
     "end_time": "2020-02-03T21:41:09.611104Z",
     "start_time": "2020-02-03T21:41:09.605120Z"
    }
   },
   "source": [
    "<img src=\"images/2.png\">"
   ]
  },
  {
   "cell_type": "code",
   "execution_count": null,
   "metadata": {},
   "outputs": [],
   "source": []
  }
 ],
 "metadata": {
  "kernelspec": {
   "display_name": "Python 3",
   "language": "python",
   "name": "python3"
  },
  "language_info": {
   "codemirror_mode": {
    "name": "ipython",
    "version": 3
   },
   "file_extension": ".py",
   "mimetype": "text/x-python",
   "name": "python",
   "nbconvert_exporter": "python",
   "pygments_lexer": "ipython3",
   "version": "3.7.4"
  },
  "varInspector": {
   "cols": {
    "lenName": 16,
    "lenType": 16,
    "lenVar": 40
   },
   "kernels_config": {
    "python": {
     "delete_cmd_postfix": "",
     "delete_cmd_prefix": "del ",
     "library": "var_list.py",
     "varRefreshCmd": "print(var_dic_list())"
    },
    "r": {
     "delete_cmd_postfix": ") ",
     "delete_cmd_prefix": "rm(",
     "library": "var_list.r",
     "varRefreshCmd": "cat(var_dic_list()) "
    }
   },
   "types_to_exclude": [
    "module",
    "function",
    "builtin_function_or_method",
    "instance",
    "_Feature"
   ],
   "window_display": false
  }
 },
 "nbformat": 4,
 "nbformat_minor": 2
}
